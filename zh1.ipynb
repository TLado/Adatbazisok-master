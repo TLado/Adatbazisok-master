{
    "metadata": {
        "kernelspec": {
            "name": "SQL",
            "display_name": "SQL",
            "language": "sql"
        },
        "language_info": {
            "name": "sql",
            "version": ""
        }
    },
    "nbformat_minor": 2,
    "nbformat": 4,
    "cells": [
        {
            "cell_type": "code",
            "source": [
                "SELECT Nev, \r\n",
                "        Email\r\n",
                "FROM vendeg\r\n",
                "WHERE szul_dat BETWEEN DATEFROMPARTS(1990, 06, 1) AND DATEFROMPARTS(1991, 1, 1)\r\n",
                "ORDER BY MONTH(szul_dat) ASC "
            ],
            "metadata": {
                "azdata_cell_guid": "4a7f7b28-3492-4a0f-97de-cb9ac24e4af0",
                "language": "sql"
            },
            "outputs": [
                {
                    "output_type": "display_data",
                    "data": {
                        "text/html": "(5 rows affected)"
                    },
                    "metadata": {}
                },
                {
                    "output_type": "display_data",
                    "data": {
                        "text/html": "Total execution time: 00:00:00.006"
                    },
                    "metadata": {}
                },
                {
                    "output_type": "execute_result",
                    "metadata": {},
                    "execution_count": 9,
                    "data": {
                        "application/vnd.dataresource+json": {
                            "schema": {
                                "fields": [
                                    {
                                        "name": "Nev"
                                    },
                                    {
                                        "name": "Email"
                                    },
                                    {
                                        "name": "szul_dat"
                                    }
                                ]
                            },
                            "data": [
                                {
                                    "Nev": "Ötvös Árpád",
                                    "Email": "árpád.ötvös@mail.hu",
                                    "szul_dat": "1990-06-08"
                                },
                                {
                                    "Nev": "Bodor Szabolcs",
                                    "Email": "szabolcs.bodor@mail.hu",
                                    "szul_dat": "1990-07-16"
                                },
                                {
                                    "Nev": "Bosnyák Ilona",
                                    "Email": "ilona3@gmail.com",
                                    "szul_dat": "1990-08-06"
                                },
                                {
                                    "Nev": "Szabó Julianna",
                                    "Email": "julianna4@gmail.com",
                                    "szul_dat": "1990-09-29"
                                },
                                {
                                    "Nev": "Berta Dávid",
                                    "Email": "david4@gmail.com",
                                    "szul_dat": "1990-10-08"
                                }
                            ]
                        },
                        "text/html": [
                            "<table>",
                            "<tr><th>Nev</th><th>Email</th><th>szul_dat</th></tr>",
                            "<tr><td>Ötvös Árpád</td><td>árpád.ötvös@mail.hu</td><td>1990-06-08</td></tr>",
                            "<tr><td>Bodor Szabolcs</td><td>szabolcs.bodor@mail.hu</td><td>1990-07-16</td></tr>",
                            "<tr><td>Bosnyák Ilona</td><td>ilona3@gmail.com</td><td>1990-08-06</td></tr>",
                            "<tr><td>Szabó Julianna</td><td>julianna4@gmail.com</td><td>1990-09-29</td></tr>",
                            "<tr><td>Berta Dávid</td><td>david4@gmail.com</td><td>1990-10-08</td></tr>",
                            "</table>"
                        ]
                    }
                }
            ],
            "execution_count": 9
        },
        {
            "cell_type": "code",
            "source": [
                "SELECT tipus, \r\n",
                "        ROUND(AVG(csillagok_szama), 0)\r\n",
                "FROM szallashely\r\n",
                "GROUP BY tipus\r\n",
                "HAVING tipus != 'panzió' AND ROUND(AVG(csillagok_szama), 0) >= 3 "
            ],
            "metadata": {
                "azdata_cell_guid": "fb2454be-1021-4bd4-9608-d12841d2f22a",
                "language": "sql"
            },
            "outputs": [
                {
                    "output_type": "display_data",
                    "data": {
                        "text/html": "(1 row affected)"
                    },
                    "metadata": {}
                },
                {
                    "output_type": "display_data",
                    "data": {
                        "text/html": "Total execution time: 00:00:00.007"
                    },
                    "metadata": {}
                },
                {
                    "output_type": "execute_result",
                    "metadata": {},
                    "execution_count": 24,
                    "data": {
                        "application/vnd.dataresource+json": {
                            "schema": {
                                "fields": [
                                    {
                                        "name": "tipus"
                                    },
                                    {
                                        "name": "(No column name)"
                                    }
                                ]
                            },
                            "data": [
                                {
                                    "tipus": "Hotel",
                                    "(No column name)": "3"
                                }
                            ]
                        },
                        "text/html": [
                            "<table>",
                            "<tr><th>tipus</th><th>(No column name)</th></tr>",
                            "<tr><td>Hotel</td><td>3</td></tr>",
                            "</table>"
                        ]
                    }
                }
            ],
            "execution_count": 24
        },
        {
            "cell_type": "code",
            "source": [
                "SELECT s.szoba_id,\r\n",
                "        YEAR(f.mettol), \r\n",
                "        COUNT(f.szoba_fk)\r\n",
                "FROM szoba s JOIN foglalas f ON s.szoba_id = f.SZOBA_FK\r\n",
                "GROUP BY s.szoba_id, YEAR(f.mettol)\r\n",
                "HAVING COUNT(f.szoba_fk) > 10 AND s.SZOBA_ID % 2 = 1"
            ],
            "metadata": {
                "azdata_cell_guid": "c8eea233-e348-4a3e-8b26-a99f93d55fb3",
                "language": "sql"
            },
            "outputs": [
                {
                    "output_type": "display_data",
                    "data": {
                        "text/html": "(0 rows affected)"
                    },
                    "metadata": {}
                },
                {
                    "output_type": "display_data",
                    "data": {
                        "text/html": "Total execution time: 00:00:00.005"
                    },
                    "metadata": {}
                },
                {
                    "output_type": "execute_result",
                    "metadata": {},
                    "execution_count": 35,
                    "data": {
                        "application/vnd.dataresource+json": {
                            "schema": {
                                "fields": [
                                    {
                                        "name": "szoba_id"
                                    },
                                    {
                                        "name": "(No column name)"
                                    },
                                    {
                                        "name": "(No column name)"
                                    }
                                ]
                            },
                            "data": []
                        },
                        "text/html": [
                            "<table>",
                            "<tr><th>szoba_id</th><th>(No column name)</th><th>(No column name)</th></tr>",
                            "</table>"
                        ]
                    }
                }
            ],
            "execution_count": 35
        }
    ]
}